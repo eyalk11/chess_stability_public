{
 "cells": [
  {
   "cell_type": "markdown",
   "id": "6b3ee610-7034-44e2-8e74-327264369c0d",
   "metadata": {},
   "source": [
    "# About"
   ]
  },
  {
   "cell_type": "markdown",
   "id": "a06fb5ed-c26a-4634-8706-cb391876aa2e",
   "metadata": {},
   "source": [
    "\n",
    "Stability Analyzer is a tool to provide you additional of chess positions (in addition to standard score),called stability score (0-100).It describes how easy it is to break position / how stable the position is.  Namely, if you were to do reasonable moves, would the score be kept the same?  Or is the position lies on thin ice? \n",
    "\n",
    "The tool is meant to be used as extension. This is just a basic demo.\n",
    "\n",
    "The chess boards here are interactive(but you can't change the moves). \n",
    "\n",
    "## Motivation \n",
    "\n",
    "\n",
    "For half a century, computers have been utilized to analyze chess positions.\n",
    "Throughout this period, a single measure  was established as the only numerical metric[^1] which is used in computerized analysis. I refer to the infamous **centipawn loss** of course, that signifies how good the position is (in terms of pawn advantage). \n",
    "\n",
    "This is the case even though this method fails to account for some very important aspects of the position. For instance, there could be a position that is only good because of 10-moves line no human could find. The evalution might be misleading in this case.  Or the position could look calm and solid, sometimes even winning, but one has to play very precisely in order to maintain the advantage. While analysing a position, a player should be able to discern whether it is his opponent who would struggle to find good moves down the line, or he is.  Ideally, that information should be readily available to him. \n",
    "\n",
    "In all the cases montioned, one could argue that the position is not stable. Indeed, quite often **keeping the position stable is even more important than playing the absolutely best move**. Or rather, the stability of the position matters more than the absoulte evalution[^2]. That is of course, from human perspective, as we are very bad at playing positions computers excel in. Even the best players tend to make mistakes when the number of good options is limited.  That is why I have developed an algorithm that evaluates the stability of chess positions.\n",
    "\n",
    "We have already discussed the intiution behind stability. However, this notion could have a precise mathematical sense, as defined by the algortihm[^3], but it still a bit hard to articulate. So, it is roughly:   *The expected percentage change in evalution resulting from playing a random reasonable line of a certain depth[^4]*. Another candidate(not implemented yet) could be *percentage of reasonable lines of certain depth that maintain a relatively consistent evaluation*(in other words, approved by the computer). \n",
    "\n",
    "But what are reasonable moves?  Those are in prinicple human moves, or intuitive moves. It should come as no surprise that computers are perfectly capable of playing human-like moves , as the bots in chess.com keep us entertained. The easiest way to achieve it is to  limit their time to think. \n",
    "\n",
    "The challenge here lies in devising the right algorithm or formula to calculate this stability, make it perform well, and also in choosing the right parameters. While I am quite satisficed with the current result, it is not perfect yet. But in principle, I think this should demonstrate that such measure is both useful (even in its current state), and of course achievable (could be implemented). And I find it strange, it hasn't been devised before[^5]. \n",
    "\n",
    " The version of the  algorithm[^3] presented here is rather crude, because of some dubious optimizations that had to be introduced in the code. \n",
    "\n",
    "#### Advanced usage\n",
    "if you want to change this notebook without extension, you can switch to  lab in the url (instead of voila).\n"
   ]
  },
  {
   "cell_type": "markdown",
   "id": "dde6d8ac-0e90-400d-b8c1-90aec408a24a",
   "metadata": {},
   "source": [
    "# Games"
   ]
  },
  {
   "cell_type": "code",
   "execution_count": 5,
   "id": "193c46d7-97a8-4ca5-877d-b554a8cbf05f",
   "metadata": {
    "ExecuteTime": {
     "end_time": "2024-10-11T15:21:50.792671Z",
     "start_time": "2024-10-11T15:21:50.061671Z"
    }
   },
   "outputs": [
    {
     "name": "stdout",
     "output_type": "stream",
     "text": [
      "The autoreload extension is already loaded. To reload it, use:\n",
      "  %reload_ext autoreload\n"
     ]
    }
   ],
   "source": [
    "%load_ext autoreload\n",
    "%autoreload 2\n",
    "%run firstcell.py"
   ]
  },
  {
   "cell_type": "markdown",
   "id": "595b7969-413a-47a9-b73f-e7121df81bc5",
   "metadata": {},
   "source": [
    "## Carlsen games"
   ]
  },
  {
   "cell_type": "code",
   "execution_count": 6,
   "id": "1267e63c-c7e8-4700-a3bf-4302d6905a9c",
   "metadata": {},
   "outputs": [
    {
     "data": {
      "application/vnd.jupyter.widget-view+json": {
       "model_id": "1edc9506ab064ad4a8357e15e3f0b1a4",
       "version_major": 2,
       "version_minor": 0
      },
      "text/plain": [
       "Output()"
      ]
     },
     "metadata": {},
     "output_type": "display_data"
    },
    {
     "data": {
      "text/plain": [
       "<__main__.GameDispCalc at 0x1ddc441e1d0>"
      ]
     },
     "execution_count": 6,
     "metadata": {},
     "output_type": "execute_result"
    }
   ],
   "source": [
    "pgn='''[Event \"CCT Finals KO 2023\"]\n",
    "[White \"Carlsen,Magnus\"]\n",
    "[Black \"Caruana,Fabiano\"]\n",
    "[Site \"Toronto\"]\n",
    "[Round \"1.1\"]\n",
    "[Annotator \"TA\"]\n",
    "[Result \"1-0\"]\n",
    "[Date \"2023.12.13\"]\n",
    "[WhiteElo \"2830\"]\n",
    "[BlackElo \"2794\"]\n",
    "[PlyCount \"181\"]\n",
    "[TimeControl \"900+3\"]\n",
    "\n",
    "{[%evp 25,181,0,0,0,0,-1,0,0,7,13,7,0,20,-8,6,0,0,0,0,0,0,0,77,0,76,59,61,72,193,0,0,0,8,8,5,0,0,0,0,0,0,0,0,0,0,0,0,0,0,0,0,0,0,0,0,0,0,0,0,0,0,0,0,0,0,0,0,0,0,0,0,0,0,-41,0,0,0,0,0,0,0,0,0,0,0,0,0,-243,-225,-179,-120,-136,-130,-564,-489,-719,-767,-838,-613,-580,-548,-448,-188,-256,-262,-412,-234,-279,-266,-491,-527,-493,-454,-401,-389,-391,0,-831,0,0,0,0,0,0,0,-29989,-29990,-29990,0,-1612,-1449,-29990,-29976,-6070,-5081,-4308,-4704,-5069,0,0,0,-5072,-5057,-1446,0,0,0,0,0,0,0,0,0,0,0,0,29991,29992]} 1. e4 {[%emt 0:0:3]} e5 {[%emt 0:0:1]} 2. Nf3 {[%emt 0:0:2]} Nc6 {[%emt 0:0:2]} 3. Bb5 {[%emt 0:0:2]} a6 {[%emt 0:0:2]} 4. Ba4 {[%emt 0:0:1]} Nf6 {[%emt 0:0:2]} 5. O-O {[%emt 0:0:4]} Bc5 {[%emt 0:0:2]} 6. c3 {[%emt 0:0:41]} b5 {[%emt 0:0:4]} 7. Bb3 {[%emt 0:0:2]} d6 {[%emt 0:0:2]} 8. d4 {[%emt 0:1:7]} Bb6 {[%emt 0:0:2]} 9. Be3 {[%emt 0:0:3]} O-O {[%emt 0:0:8]} 10. Nbd2 {[%emt 0:0:3]} h6 {[%emt 0:0:7]} 11. h3 {[%emt 0:1:7]} Re8 {[%emt 0:0:3]} 12. a3 {[%emt 0:1:32]} Rb8 {[%emt 0:2:48]} 13. Bc2 {[%emt 0:1:11]} a5 {[%emt 0:0:40]} 14. Re1 {[%emt 0:0:15]} a4 {[%emt 0:0:23]} 15. Bd3 {[%emt 0:0:11]} Bd7 {[%emt 0:0:48]} 16. Qe2 {[%emt 0:1:18]} exd4 {[%emt 0:3:5]} 17. cxd4 {[%emt 0:0:3]} Ne7 $1 {[%emt 0:0:1]} 18. Rac1 {[%emt 0:2:3]} Ng6 {[%emt 0:0:24]} 19. Qf1 {[%emt 0:0:17]} Ba5 {[%emt 0:0:36]} 20. Red1 {[%emt 0:0:6]} c6 {[%emt 0:0:25]} 21. e5 {[%emt 0:0:47]} Nd5 {[%emt 0:1:23]} 22. Bxg6 {[%emt 0:0:38]} fxg6 {[%emt 0:0:1]} 23. Ne4 {[%emt 0:0:1]} Rf8 {[%emt 0:1:1]} (23... dxe5 $1 $11 {keeps the balance.} 24. Nxe5 Bc7 )24. Nxd6 {[%emt 0:1:5]} (24. Qe2 $1 $16 )Bxh3 {[%emt 0:0:32]} (24... Rxf3 $1 $11 {remains equal.} 25. gxf3 Qh4 )25. gxh3 {[%emt 0:0:22]} (25. Qd3 {feels hotter.} Ne7 26. Nh4 g5 27. Ng6 )Rxf3 {[%emt 0:0:2]} 26. Qg2 {[%emt 0:0:1]} (26. Rxc6 $2 Nxe3 27. fxe3 Rxf1+ $19 )Nxe3 {[%emt 0:0:22]} (26... Rxe3 $16 27. fxe3 Nxe3 28. Qxg6 Nxd1 29. Rxd1 Qg5+ 30. Qxg5 hxg5 )27. Qxf3 $2 {[%emt 0:0:46]} (27. fxe3 $18 Qg5 28. Qxg5 (28. Rxc6 $2 Qxe3+ 29. Kh2 Rf2 $19 )hxg5 29. e4 (29. Rxc6 Rxe3 30. Rdc1 Rf8 $14 ))Nxd1 $11 {[%emt 0:0:2]} 28. Rxd1 {[%emt 0:0:2]} Bc7 {[%emt 0:1:30]} 29. Qxc6 {[%emt 0:0:43]} Bxd6 {[%emt 0:0:2]} 30. Qd5+ {[%emt 0:0:31]} Kh7 {[%emt 0:0:2]} 31. exd6 {[%emt 0:0:2]} Qd7 {[%emt 0:0:10]} 32. Kg2 {[%emt 0:0:49]} Rb6 {[%emt 0:0:5]} 33. Qe4 {[%emt 0:0:16]} Rxd6 {[%emt 0:0:2]} 34. d5 {[%emt 0:0:2]} Rf6 {[%emt 0:0:5]} 35. Rd3 {[%emt 0:0:9]} Rd6 {[%emt 0:0:52]} 36. Qe5 {[%emt 0:0:7]} Qd8 {[%emt 0:0:7]} 37. Kf1 {[%emt 0:0:13]} Qc7 {[%emt 0:0:15]} 38. Rc3 {[%emt 0:0:7]} Qd7 {[%emt 0:0:5]} 39. Rd3 {[%emt 0:0:0]} Qd8 {[%emt 0:0:10]} 40. Ke2 {[%emt 0:0:3]} Qb6 {[%emt 0:0:6]} 41. Qd4 {[%emt 0:0:5]} Qb7 {[%emt 0:0:2]} 42. Kd2 {[%emt 0:0:1]} Qf7 {[%emt 0:0:4]} 43. Kc2 {[%emt 0:0:2]} Rf6 {[%emt 0:0:5]} 44. f3 {[%emt 0:0:4]} Qc7+ {[%emt 0:0:2]} 45. Kb1 {[%emt 0:0:2]} Qd6 {[%emt 0:0:5]} 46. Ka2 {[%emt 0:0:5]} Rf4 {[%emt 0:0:1]} 47. Qe3 {[%emt 0:0:4]} b4 {[%emt 0:0:3]} 48. axb4 $1 {[%emt 0:0:1]} Rxb4 {[%emt 0:0:1]} 49. Qd2 {[%emt 0:0:4]} Rb8 {[%emt 0:0:7]} 50. Rd4 {[%emt 0:0:1]} Rb3 {[%emt 0:0:12]} 51. Rd3 {[%emt 0:0:7]} Rb8 {[%emt 0:0:3]} 52. Rd4 {[%emt 0:0:1]} Rb5 {[%emt 0:0:3]} 53. h4 {[%emt 0:0:4]} h5 {[%emt 0:0:1]} 54. Qd3 {[%emt 0:0:5]} Rb3 {[%emt 0:0:2]} 55. Qd1 {[%emt 0:0:0]} Qb6 {[%emt 0:0:5]} 56. Qd2 $2 {[%emt 0:0:2]} (56. Rd2 $11 {and White stays safe.} )Rxf3 $19 {[%emt 0:0:3]} (56... a3 57. bxa3 Rxf3 58. Qb4 Rf2+ 59. Kb3 )57. Rd3 {[%emt 0:0:0]} Rf2 {[%emt 0:0:4]} (57... Rf1 $1 $19 58. Qe3 Qxe3 59. Rxe3 Rd1 )58. Qc3 $17 {[%emt 0:0:1]} Qd6 $1 {[%emt 0:0:4]} 59. Qc6 $2 {[%emt 0:0:2][%mdl 8192]} (59. Rd4 $17 {is more resistant.} )Qh2 $19 {[%emt 0:0:5]} 60. Qb6 {[%emt 0:0:2]} (60. Qc1 $142 a3 61. Rxa3 )Qxh4 $19 {[%emt 0:0:4]} 61. Rd4 {[%emt 0:0:2]} Qg3 {[%emt 0:0:4]} 62. Qb4 {[%emt 0:0:4]} a3 {[%emt 0:0:2]} 63. Qxa3 {[%emt 0:0:1]} Qe5 {[%emt 0:0:2]} (63... Qxa3+ $142 64. Kxa3 Rf8 )64. Qd3 {[%emt 0:0:2]} (64. Qb4 {keeps fighting.} )Qd6 $19 {[%emt 0:0:2]} (64... Qb8 $2 65. Qa3 $19 )65. Ra4 {[%emt 0:0:4]} (65. Kb1 {was worth a try.} )Rf5 {[%emt 0:0:13]} (65... Qh2 $142 66. Qc3 Rc2 )66. Rd4 $19 {[%emt 0:0:3]} Rf8 {[%emt 0:0:0]} 67. b4 $2 {[%emt 0:0:1]} (67. Kb1 {is a better defense.} )Rf2+ $19 {[%emt 0:0:0]} 68. Kb3 {[%emt 0:0:1]} Qf6 {[%emt 0:0:0]} 69. Qc4 {[%emt 0:0:8]} Rf3+ {[%emt 0:0:1]} 70. Rd3 {[%emt 0:0:1]} Rf2 $2 {[%emt 0:0:2]} (70... Rf1 $19 {aiming for ...Qa1.} 71. Rc3 Rd1 )71. d6 $2 {[%emt 0:0:2][%mdl 8192]} (71. Rd4 $11 )Qb2+ $2 {[%emt 0:0:6]} ({Black should try} 71... Qa1 $19 {( -> ...Qa2+)} 72. Qc5 Qa2+ 73. Kc3 Rc2+ 74. Kd4 Qa1+ 75. Ke4 Qh1+ 76. Ke5 Qh2+ 77. Ke4 Qg2+ 78. Rf3 Re2+ 79. Qe3 h4 )72. Ka4 $11 {[%emt 0:0:1]} Qa1+ {[%emt 0:0:1]} 73. Kb5 {[%emt 0:0:1]} Qa8 {[%emt 0:0:7]} (73... Rf8 $5 74. d7 $8 Rf6 $11 )74. d7 $1 {[%emt 0:0:2]} Rf5+ {[%emt 0:0:0]} 75. Kb6 $2 {[%emt 0:0:1][%mdl 8192]} (75. Qc5 $11 Qb7+ 76. Ka5 Qa8+ 77. Kb5 Rxc5+ 78. bxc5 )Qb8+ {[%emt 0:0:2]} 76. Ka6 {[%emt 0:0:1]} Qa8+ {[%emt 0:0:2]} (76... Rf6+ $142 77. Ka5 Qa7+ 78. Kb5 Rb6+ 79. Kc5 Re6+ 80. Kd5 Qxd7+ 81. Kc5 Rc6+ 82. Kb5 Rd6+ {[%mdl 64] Discovered Attack} 83. Ka5 Qa7+ 84. Kb5 Qa6+ 85. Kc5 Qc6# )77. Kb6 $19 {[%emt 0:0:1] [#]} Rf6+ $1 {[%emt 0:0:5]} 78. Kc5 {[%emt 0:0:23]} Rc6+ {[%emt 0:0:2]} 79. Kd4 {[%emt 0:0:1]} Rxc4+ {[%emt 0:0:4]} 80. Kxc4 {[%emt 0:0:1]} Qd8 {[%emt 0:0:8]} 81. b5 {[%emt 0:0:1]} Qc7+ $2 {[%emt 0:0:3]} (81... g5 $19 82. b6 g4 )82. Kb3 $11 {[%emt 0:0:2]} Qd8 {[%emt 0:0:1]} 83. Ka4 $2 {[%emt 0:0:7][%mdl 8192]} (83. Kc4 $11 g5 84. b6 )h4 $19 {[%emt 0:0:4]} 84. b6 {[%emt 0:0:0] [#]} h3 $2 {[%emt 0:0:4]} ({And not} 84... Qxb6 85. d8=Q (85. d8=B {gets mated.} Qa6+ 86. Kb4 Qxd3 87. Bxh4 Qd4+ 88. Kb5 Qxh4 89. Kc6 Qe4+ 90. Kb6 g5 91. Kc7 g4 92. Kd6 g3 93. Kc5 g2 94. Kd6 g1=Q 95. Kd7 Qa7+ 96. Kd8 Qea8# )Qxd8 86. Rxd8 $11 )(84... g5 $1 $19 {[%cal Rg5g4] ...g4! would be deadly.} 85. b7 g4 )85. Rxh3+ $11 {[%emt 0:0:1]} Kg8 {[%emt 0:0:0]} 86. Rd3 {[%emt 0:0:2]} Kf7 {[%emt 0:0:1]} (86... Qxb6 87. d8=Q+ (87. d8=R+ $2 {loses.} Kf7 $19 )Qxd8 88. Rxd8+ $18 )87. b7 {[%emt 0:0:1]} Ke7 {[%emt 0:0:0]} 88. Kb5 {[%emt 0:0:1]} g5 {[%emt 0:0:3]} 89. Kc6 {[%emt 0:0:4]} g4 {[%emt 0:0:2]} 90. Re3+ {[%emt 0:0:13]} Kf6 $2 {[%emt 0:0:4][%mdl 8192]} (90... Kf7 $11 )91. Re8 {[%emt 0:0:2]} 1-0\n",
    "\n",
    "'''\n",
    "display_game(pgn)\n",
    "\n"
   ]
  },
  {
   "cell_type": "code",
   "execution_count": 7,
   "id": "491eec91-6e30-4d6c-89b8-aab591dff11b",
   "metadata": {
    "ExecuteTime": {
     "end_time": "2023-12-06T23:02:28.374557500Z",
     "start_time": "2023-12-06T23:02:28.281557200Z"
    }
   },
   "outputs": [
    {
     "data": {
      "application/vnd.jupyter.widget-view+json": {
       "model_id": "41b851903ff143948038a005464db546",
       "version_major": 2,
       "version_minor": 0
      },
      "text/plain": [
       "Output()"
      ]
     },
     "metadata": {},
     "output_type": "display_data"
    },
    {
     "data": {
      "text/plain": [
       "<__main__.GameDispCalc at 0x1ddc4a067d0>"
      ]
     },
     "execution_count": 7,
     "metadata": {},
     "output_type": "execute_result"
    }
   ],
   "source": [
    "pgn='''[Event \"Biel Chess Festival\"]\n",
    "[Site \"Biel SUI\"]\n",
    "[Date \"2007.08.02\"]\n",
    "[Round \"9\"]\n",
    "[White \"Magnus Carlsen\"]\n",
    "[Black \"Teimour Radjabov\"]\n",
    "[Result \"1-0\"]\n",
    "[EventDate \"?\"]\n",
    "[ECO \"B07\"]\n",
    "[WhiteElo \"2710\"]\n",
    "[BlackElo \"2747\"]\n",
    "[PlyCount \"55\"]\n",
    "\n",
    "1. e4 d6 2. d4 Nf6 3. Nc3 e5 4. Nge2 Nbd7 5. g3 c6 6. Bg2 b5 7. a3 Be7 8. O-O\n",
    "O-O 9. h3 a5 10. g4 Ba6 11. Ng3 b4 12. Nce2 bxa3 13. Rxa3 d5 14. Re3 dxe4 15.\n",
    "Re1 Qc7 16. Nf5 Bd8 17. g5 Nd5 18. Rxe4 f6 19. Neg3 g6 20. Nh6+ Kg7 21. dxe5\n",
    "fxg5 22. e6 Kxh6 23. e7 Qb6 24. exf8=Q+ Nxf8 25. c4 Nf4 26. Qd6 Kg7 27. Bxf4\n",
    "gxf4 28. Re7+ 1-0'''\n",
    "\n",
    "display_game(pgn)"
   ]
  },
  {
   "cell_type": "markdown",
   "id": "569841f9-3085-4765-b435-2effd47e1b6e",
   "metadata": {},
   "source": [
    "## Nils Jorden"
   ]
  },
  {
   "cell_type": "code",
   "execution_count": 8,
   "id": "7f71a23e-c575-49bd-a628-1405341a6806",
   "metadata": {},
   "outputs": [
    {
     "data": {
      "application/vnd.jupyter.widget-view+json": {
       "model_id": "d4d0343a5a6f49c0be9c198de0de34d3",
       "version_major": 2,
       "version_minor": 0
      },
      "text/plain": [
       "Output()"
      ]
     },
     "metadata": {},
     "output_type": "display_data"
    },
    {
     "data": {
      "text/plain": [
       "<__main__.GameDispCalc at 0x1ddc5000f10>"
      ]
     },
     "execution_count": 8,
     "metadata": {},
     "output_type": "execute_result"
    }
   ],
   "source": [
    "\n",
    "pgn='''[Event \"2021-tata-steel-masters\"]\n",
    "[Site \"?\"]\n",
    "[Date \"Sun Jan 31 2021\"]\n",
    "[Round \"13\"]\n",
    "[White \"Van Foreest, Jorden\"]\n",
    "[Black \"Grandelius, Nils\"]\n",
    "[Result \"1-0\"]\n",
    "[WhiteFideId \"1039784\"]\n",
    "[BlackFideId \"1710400\"]\n",
    "[WhiteElo \"2671\"]\n",
    "[BlackElo \"2663\"]\n",
    "[WhiteClock \"1:30:22\"]\n",
    "[BlackClock \"0:31:57\"]\n",
    "[WhiteUrl \"https://images.chesscomfiles.com/uploads/v1/master_player/0a158512-5d6d-11eb-b752-b5fd1d74df63.4770aa27.50x50o.7d0b0ee20d0b.jpeg\"]\n",
    "[WhiteCountry \"\"]\n",
    "[WhiteTitle \"\"]\n",
    "[BlackUrl \"https://images.chesscomfiles.com/uploads/v1/master_player/23283f08-42da-11ea-9bab-d9c386462600.82f12f87.50x50o.12d6666d15fa.jpeg\"]\n",
    "[BlackCountry \"\"]\n",
    "[BlackTitle \"\"]\n",
    "[Link \"https://www.chess.com/analysis/game/master/15790369?tab=analysis&move=19\"]\n",
    "\n",
    "1. e4 c5 2. Nf3 d6 3. d4 cxd4 4. Nxd4 Nf6 5. Nc3 a6 6. Qd3 $6 Nbd7 7. Be2 b5 8.\n",
    "a4 Nc5 9. Qe3 b4 10. Nd5 Ncxe4 11. a5 $6 Nxd5 12. Qxe4 e6 $6 13. O-O $6 Bd7 $2 14.\n",
    "Bd2 Be7 15. Bf3 O-O 16. Qd3 $1 Qb8 17. c4 bxc3 $1 18. bxc3 Ra7 $2 19. Rfb1 Qc8 $6 20.\n",
    "c4 $1 Nf6 21. Nb5 $3 axb5 22. cxb5 Bxb5 23. Qxb5 Nd7 $2 24. Bb7 Qd8 25. a6 Bf6 26.\n",
    "Ba5 Qe8 27. Bc7 $4 Bxa1 28. Rxa1 $6 d5 $2 29. Bd6 $1 Qd8 30. Rc1 g6 $2 31. h3 Re8 32.\n",
    "Rc7 Nf6 33. Be5 Ne4 34. Qc6 Rf8 35. Bd4 Qb8 36. f3 Rxa6 37. Bxa6 Qb4 38. Be5\n",
    "Qe1+ 39. Kh2 Nf2 40. Qc3 Qh1+ 41. Kg3 Qg1 42. Rc8 Nh1+ 43. Kh4 Qf2+ 44. g3 $1 g5+\n",
    "45. Kxg5 f6+ $6 46. Kh6 $1 fxe5 47. Qxe5 1-0'''\n",
    "display_game(pgn)"
   ]
  },
  {
   "cell_type": "markdown",
   "id": "888736bd-5cf3-4060-9e6c-7463aae47c6b",
   "metadata": {},
   "source": [
    "# Boards"
   ]
  },
  {
   "cell_type": "code",
   "execution_count": 9,
   "id": "d2258ac0-7f69-4ce8-b21d-282ab3ef8632",
   "metadata": {},
   "outputs": [
    {
     "data": {
      "application/vnd.jupyter.widget-view+json": {
       "model_id": "41b851903ff143948038a005464db546",
       "version_major": 2,
       "version_minor": 0
      },
      "text/plain": [
       "Output()"
      ]
     },
     "metadata": {},
     "output_type": "display_data"
    },
    {
     "name": "stdout",
     "output_type": "stream",
     "text": [
      "None\n"
     ]
    },
    {
     "data": {
      "text/plain": [
       "<__main__.Calculator at 0x1ddc4ab1210>"
      ]
     },
     "execution_count": 9,
     "metadata": {},
     "output_type": "execute_result"
    }
   ],
   "source": [
    "fen='r2Rr1k1/pp3pp1/2p2bbp/4n3/4pBP1/2Q1P1NP/PPP2P2/1K3B1R b - - 0 17'\n",
    "\n",
    "display_board(fen)"
   ]
  },
  {
   "cell_type": "code",
   "execution_count": 10,
   "id": "af9e85fc-dda1-41fc-8da5-51aae2a9ceb0",
   "metadata": {},
   "outputs": [
    {
     "data": {
      "application/vnd.jupyter.widget-view+json": {
       "model_id": "6d272fc7c3264977b035629e6d1e9776",
       "version_major": 2,
       "version_minor": 0
      },
      "text/plain": [
       "Output()"
      ]
     },
     "metadata": {},
     "output_type": "display_data"
    },
    {
     "data": {
      "text/plain": [
       "<__main__.GameDispCalc at 0x1ddc4a02ad0>"
      ]
     },
     "execution_count": 10,
     "metadata": {},
     "output_type": "execute_result"
    }
   ],
   "source": [
    "naj='''1. e4 c5 2. Nf3 d6 3. d4 cxd4 4. Nxd4 Nf6 5. Nc3 a6 6. Be3 e6 7. g4 e5 8. Nf5 g6 9. Bg2 gxf5 10. exf5'''\n",
    "display_game(naj)\n"
   ]
  }
 ],
 "metadata": {
  "kernelspec": {
   "display_name": "Python 3 (ipykernel)",
   "language": "python",
   "name": "python3"
  },
  "language_info": {
   "codemirror_mode": {
    "name": "ipython",
    "version": 3
   },
   "file_extension": ".py",
   "mimetype": "text/x-python",
   "name": "python",
   "nbconvert_exporter": "python",
   "pygments_lexer": "ipython3",
   "version": "3.11.5"
  },
  "scenes_data": {
   "active_scene": "Default Scene",
   "init_scene": "",
   "scenes": [
    "Default Scene"
   ]
  }
 },
 "nbformat": 4,
 "nbformat_minor": 5
}
